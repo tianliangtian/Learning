{
 "cells": [
  {
   "cell_type": "markdown",
   "metadata": {},
   "source": [
    "# Linear Regression"
   ]
  },
  {
   "cell_type": "markdown",
   "metadata": {},
   "source": [
    "Import necessary library"
   ]
  },
  {
   "cell_type": "code",
   "execution_count": 1,
   "metadata": {},
   "outputs": [],
   "source": [
    "import numpy as np\n",
    "import matplotlib.pyplot as plt"
   ]
  },
  {
   "cell_type": "markdown",
   "metadata": {},
   "source": [
    "BP to learn coefficients"
   ]
  },
  {
   "cell_type": "code",
   "execution_count": 69,
   "metadata": {},
   "outputs": [],
   "source": [
    "def Linear_Regression(dataset, iter, lr):\n",
    "    \"\"\"\n",
    "    input: \n",
    "        dataset is a dist, with dataset[\"x\"].shape = (n, d) and dataset[\"y\"].shape = (n), where n is the numebr of samples and d is the dimension of information\n",
    "        iter: iteration times\n",
    "        lr: learning rate\n",
    "\n",
    "    output: coeffitient matrix theta, with theta.shape = (d + 1)\n",
    "    \"\"\"\n",
    "    n, d = dataset[\"x\"].shape\n",
    "    theta = np.zeros(d+1)\n",
    "    x = np.concatenate((np.ones([n, 1]), dataset[\"x\"]), axis=1)\n",
    "    y = dataset[\"y\"]\n",
    "    old_cost = -5\n",
    "    new_cost = 0\n",
    "    epsilon = 1e-5\n",
    "    \n",
    "    while(abs(old_cost - new_cost) < epsilon or iter > 0):\n",
    "        old_cost = new_cost\n",
    "        a = x @ theta.T - y\n",
    "        new_cost = np.sum(a ** 2)\n",
    "        d_theta = a.T @ x\n",
    "        theta -= lr * d_theta\n",
    "        iter -= 1\n",
    "\n",
    "    return theta"
   ]
  },
  {
   "cell_type": "markdown",
   "metadata": {},
   "source": [
    "calculate y"
   ]
  },
  {
   "cell_type": "code",
   "execution_count": 74,
   "metadata": {},
   "outputs": [],
   "source": [
    "def cal_y(x, theta):\n",
    "    \"\"\"\n",
    "    input: \n",
    "            x: dim = (n, d)\n",
    "            theta: dim = d + 1 \n",
    "    output:\n",
    "            y\n",
    "    \"\"\"\n",
    "    _, d = x.shape\n",
    "    x = np.concatenate((np.ones(d).reshape(-1,1), x), axis=1)\n",
    "    y = x @ theta.T\n",
    "    \n",
    "    return y[0]\n",
    "    "
   ]
  },
  {
   "cell_type": "markdown",
   "metadata": {},
   "source": [
    "plot dataset and line"
   ]
  },
  {
   "cell_type": "code",
   "execution_count": 76,
   "metadata": {},
   "outputs": [],
   "source": [
    "def plot(dataset, theta):\n",
    "    fig, ax = plt.subplots(1, 1)\n",
    "    ax.scatter(dataset[\"x\"], dataset[\"y\"], c='blue', marker='o')\n",
    "    ax.set_title(\"Linear_Regression\")\n",
    "    ax.set_xlabel(\"x\")\n",
    "    ax.set_ylabel(\"y\")\n",
    "    _, d = dataset[\"x\"].shape\n",
    "    x1 = np.zeros([1, d])  \n",
    "    y1 = cal_y(x1, theta)\n",
    "    x2 = np.max(dataset[\"x\"]).reshape(1, d)\n",
    "    y2 = cal_y(x2, theta)\n",
    "    ax.plot([0, x2[0][0]], [y1, y2])\n",
    "    plt.show()"
   ]
  },
  {
   "cell_type": "code",
   "execution_count": 87,
   "metadata": {},
   "outputs": [
    {
     "name": "stdout",
     "output_type": "stream",
     "text": [
      "[9.71017714 1.03258747]\n"
     ]
    },
    {
     "data": {
      "image/png": "[encoded data removed]",
      "text/plain": [
       "<Figure size 640x480 with 1 Axes>"
      ]
     },
     "metadata": {},
     "output_type": "display_data"
    }
   ],
   "source": [
    "dataset = {}\n",
    "dataset[\"x\"] = np.array([1, 4, 5, 10, 12]).reshape(-1, 1)\n",
    "dataset[\"y\"] = np.array([11, 14, 15, 20, 22])\n",
    "iter = 500\n",
    "learning_rates = [0.005]\n",
    "thetas = []\n",
    "for learning_rate in learning_rates:\n",
    "    theta = (Linear_Regression(dataset, iter, learning_rate))\n",
    "    print(theta)\n",
    "    plot(dataset, theta)\n",
    "    thetas.append(theta)"
   ]
  }
 ],
 "metadata": {
  "kernelspec": {
   "display_name": "pytorch",
   "language": "python",
   "name": "python3"
  },
  "language_info": {
   "codemirror_mode": {
    "name": "ipython",
    "version": 3
   },
   "file_extension": ".py",
   "mimetype": "text/x-python",
   "name": "python",
   "nbconvert_exporter": "python",
   "pygments_lexer": "ipython3",
   "version": "3.11.7"
  }
 },
 "nbformat": 4,
 "nbformat_minor": 2
}
